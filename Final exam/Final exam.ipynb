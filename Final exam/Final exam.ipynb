{
 "cells": [
  {
   "cell_type": "markdown",
   "metadata": {},
   "source": [
    "1.What’s the biggest challenge for most businesses when going online?"
   ]
  },
  {
   "cell_type": "markdown",
   "metadata": {},
   "source": [
    "Developing a plan"
   ]
  },
  {
   "cell_type": "markdown",
   "metadata": {},
   "source": [
    "2.Where does the domain name of a website primarily sit?"
   ]
  },
  {
   "cell_type": "markdown",
   "metadata": {},
   "source": [
    "In the URL"
   ]
  },
  {
   "cell_type": "markdown",
   "metadata": {},
   "source": [
    "3.When looking to advertise a new business online, what is one of the major benefits of display ads?"
   ]
  },
  {
   "cell_type": "markdown",
   "metadata": {},
   "source": [
    "They can come in many different formats"
   ]
  },
  {
   "cell_type": "markdown",
   "metadata": {},
   "source": [
    "4.Website hosting servers have their own unique IP address, what does this address consist of?"
   ]
  },
  {
   "cell_type": "markdown",
   "metadata": {},
   "source": [
    "Numbers"
   ]
  },
  {
   "cell_type": "markdown",
   "metadata": {},
   "source": [
    "5.Imagine a customer has downloaded an app made by their local hardware store. How could that business connect with their audience through the app?"
   ]
  },
  {
   "cell_type": "markdown",
   "metadata": {},
   "source": [
    "Send them offers when they enter a certain geographical area"
   ]
  },
  {
   "cell_type": "markdown",
   "metadata": {},
   "source": [
    "6.Web analytics can tell you many things about your online performance, but what can analytics tools not tell you?"
   ]
  },
  {
   "cell_type": "markdown",
   "metadata": {},
   "source": [
    "Where your customers go after leaving your website"
   ]
  },
  {
   "cell_type": "markdown",
   "metadata": {},
   "source": [
    "7.How can businesses benefit from using analytics on their website?"
   ]
  },
  {
   "cell_type": "markdown",
   "metadata": {},
   "source": [
    "It will show you where your audience comes from"
   ]
  },
  {
   "cell_type": "markdown",
   "metadata": {},
   "source": [
    "8.Websites are hosted on a server and each of these servers has its own unique IP address. What does the ‘IP’ stand for?"
   ]
  },
  {
   "cell_type": "markdown",
   "metadata": {},
   "source": [
    "Internet Protocol"
   ]
  },
  {
   "cell_type": "markdown",
   "metadata": {},
   "source": [
    "9.When considering whether to have a web presence for your business, which of the following is not a major factor?"
   ]
  },
  {
   "cell_type": "markdown",
   "metadata": {},
   "source": [
    "How long you’ve been in business"
   ]
  },
  {
   "cell_type": "markdown",
   "metadata": {},
   "source": [
    "10.When planning your website, what is one of the key things you should consider?"
   ]
  },
  {
   "cell_type": "markdown",
   "metadata": {},
   "source": [
    "What you want your customers to do on the site"
   ]
  },
  {
   "cell_type": "markdown",
   "metadata": {},
   "source": [
    "11.When you’re building a business website, what purpose does a server have?"
   ]
  },
  {
   "cell_type": "markdown",
   "metadata": {},
   "source": [
    "It hosts your website"
   ]
  },
  {
   "cell_type": "markdown",
   "metadata": {},
   "source": [
    "12.When defining a strategy for your business, how can competitor analysis help you establish a USP (or Unique Selling Point)?"
   ]
  },
  {
   "cell_type": "markdown",
   "metadata": {},
   "source": [
    "It can identify how your offering is different in comparison to your competitors"
   ]
  },
  {
   "cell_type": "markdown",
   "metadata": {},
   "source": [
    "13.You notice that when people see images of your products online, you have an increase in conversions or sales. Which customer touchpoint could you use to take advantage of this insight?"
   ]
  },
  {
   "cell_type": "markdown",
   "metadata": {},
   "source": [
    "Social media"
   ]
  },
  {
   "cell_type": "markdown",
   "metadata": {},
   "source": [
    "14.Which are the first steps you should consider when constructing an online business strategy?"
   ]
  },
  {
   "cell_type": "markdown",
   "metadata": {},
   "source": [
    "Create goals and identify a USP"
   ]
  },
  {
   "cell_type": "markdown",
   "metadata": {},
   "source": [
    "15.When designing content as part of your content marketing strategy, what does the “Think” stage represent in the “See, Think, Do, Care” framework?"
   ]
  },
  {
   "cell_type": "markdown",
   "metadata": {},
   "source": [
    "The consideration phase, when customers start to research potential products to buy"
   ]
  },
  {
   "cell_type": "markdown",
   "metadata": {},
   "source": [
    "16.Search engines see the content on a website as written code, how can you help search engines identify the images on your website?"
   ]
  },
  {
   "cell_type": "markdown",
   "metadata": {},
   "source": [
    "Give them descriptive names"
   ]
  },
  {
   "cell_type": "markdown",
   "metadata": {},
   "source": [
    "17.When running a search engine marketing campaign, what goal do you expect to achieve by having conversion tracking on your site?"
   ]
  },
  {
   "cell_type": "markdown",
   "metadata": {},
   "source": [
    "To understand what is working and what is not"
   ]
  },
  {
   "cell_type": "markdown",
   "metadata": {},
   "source": [
    "18.What is the most important thing to consider when optimising a search engine marketing campaign?"
   ]
  },
  {
   "cell_type": "markdown",
   "metadata": {},
   "source": [
    "Increasing the relevance of the keywords, ads, and landing page"
   ]
  },
  {
   "cell_type": "markdown",
   "metadata": {},
   "source": [
    "19.Which of the following is a benefit of Search Engine Marketing (SEM)?"
   ]
  },
  {
   "cell_type": "markdown",
   "metadata": {},
   "source": [
    "Reach out to potential customers actively looking for your product or service"
   ]
  },
  {
   "cell_type": "markdown",
   "metadata": {},
   "source": [
    "20.When looking to increase the presence of a website, putting together your search engine optimisation plan will help you plan your steps. Which activity would be first on the list?"
   ]
  },
  {
   "cell_type": "markdown",
   "metadata": {},
   "source": [
    "Keyword Research"
   ]
  },
  {
   "cell_type": "markdown",
   "metadata": {},
   "source": [
    "21.When looking to optimise the performance of a website to improve its search engine ranking, using ‘long tail keyword terms’ in your SEO plan often allows you to…"
   ]
  },
  {
   "cell_type": "markdown",
   "metadata": {},
   "source": [
    "Find more opportunities"
   ]
  },
  {
   "cell_type": "markdown",
   "metadata": {},
   "source": [
    "22.Google Search Console “Crawl” reports let you monitor…?"
   ]
  },
  {
   "cell_type": "markdown",
   "metadata": {},
   "source": [
    "If Google can view your web pages"
   ]
  },
  {
   "cell_type": "markdown",
   "metadata": {},
   "source": [
    "23.Gaining backlinks to your website is a great way to improve the SEO performance. What best practice will encourage people to link back to your site?"
   ]
  },
  {
   "cell_type": "markdown",
   "metadata": {},
   "source": [
    "Write some great content they will find useful"
   ]
  },
  {
   "cell_type": "markdown",
   "metadata": {},
   "source": [
    "24.When ranking websites on search engine results pages, which element of a website do search engines value the most?"
   ]
  },
  {
   "cell_type": "markdown",
   "metadata": {},
   "source": [
    "Unique, engaging, relevant content"
   ]
  },
  {
   "cell_type": "markdown",
   "metadata": {},
   "source": [
    "25.When using a search engine, what is the name of a word or phrase somebody types to find something online?"
   ]
  },
  {
   "cell_type": "markdown",
   "metadata": {},
   "source": [
    "Search query"
   ]
  },
  {
   "cell_type": "markdown",
   "metadata": {},
   "source": [
    "26.Fill the blank: ‘Search engines _________ the internet to discover content.’"
   ]
  },
  {
   "cell_type": "markdown",
   "metadata": {},
   "source": [
    "crawl"
   ]
  },
  {
   "cell_type": "markdown",
   "metadata": {},
   "source": [
    "27.What is the term we use to describe how search engines categorise each piece of content?"
   ]
  },
  {
   "cell_type": "markdown",
   "metadata": {},
   "source": [
    "Indexing"
   ]
  },
  {
   "cell_type": "markdown",
   "metadata": {},
   "source": [
    "28.To improve your website’s SEO performance, when should you consider updating your SEO plan?"
   ]
  },
  {
   "cell_type": "markdown",
   "metadata": {},
   "source": [
    "When you add a new service or product"
   ]
  },
  {
   "cell_type": "markdown",
   "metadata": {},
   "source": [
    "29.What’s the first step in the search engine optimisation process for your website?"
   ]
  },
  {
   "cell_type": "markdown",
   "metadata": {},
   "source": [
    "Keyword research"
   ]
  },
  {
   "cell_type": "markdown",
   "metadata": {},
   "source": [
    "30.We use them every day, but what is the overall purpose of a search engine?"
   ]
  },
  {
   "cell_type": "markdown",
   "metadata": {},
   "source": [
    "To help the user find the most relevant answer to their query"
   ]
  },
  {
   "cell_type": "markdown",
   "metadata": {},
   "source": [
    "31.What are three key considerations when evaluating keywords for search engine optimisation?"
   ]
  },
  {
   "cell_type": "markdown",
   "metadata": {},
   "source": [
    "Frequency, competition, relevance"
   ]
  },
  {
   "cell_type": "markdown",
   "metadata": {},
   "source": [
    "32.When optimising a website for search, what impact do meta and title tags have on the search engine?"
   ]
  },
  {
   "cell_type": "markdown",
   "metadata": {},
   "source": [
    "They are embedded messages that help the search engine determine what’s on the page"
   ]
  },
  {
   "cell_type": "markdown",
   "metadata": {},
   "source": [
    "33.There are many ways you can improve the performance of a website from an SEO perspective. When it comes to link building which of the following statements is accurate?"
   ]
  },
  {
   "cell_type": "markdown",
   "metadata": {},
   "source": [
    "The quality of links is important, not the quantity"
   ]
  },
  {
   "cell_type": "markdown",
   "metadata": {},
   "source": [
    "34.Which of the following will be achieved by including an offer in a Search Engine Marketing (SEM) ad?"
   ]
  },
  {
   "cell_type": "markdown",
   "metadata": {},
   "source": [
    "It will help the ad stand out and encourage people to click it"
   ]
  },
  {
   "cell_type": "markdown",
   "metadata": {},
   "source": [
    "35.Fill the blank: When managing SEM campaigns, the best way to optimise your quality score is to improve the _________ of your keywords, adverts, and landing pages."
   ]
  },
  {
   "cell_type": "markdown",
   "metadata": {},
   "source": [
    "relevance"
   ]
  },
  {
   "cell_type": "markdown",
   "metadata": {},
   "source": [
    "36.What can you achieve if you divide your search engine marketing account into relevant campaigns and ad groups?"
   ]
  },
  {
   "cell_type": "markdown",
   "metadata": {},
   "source": [
    "Ensure people see relevant ads that relate to their search query"
   ]
  },
  {
   "cell_type": "markdown",
   "metadata": {},
   "source": [
    "37.Fill the blank: When optimising SEM campaigns, negative keywords _________ your ads from appearing when people search for things that aren’t relevant to your business."
   ]
  },
  {
   "cell_type": "markdown",
   "metadata": {},
   "source": [
    "prevent"
   ]
  },
  {
   "cell_type": "markdown",
   "metadata": {},
   "source": [
    "38.When advertising on search engines, if you bid the same as your competitor, having a higher quality score will mean you appear where in comparison?"
   ]
  },
  {
   "cell_type": "markdown",
   "metadata": {},
   "source": [
    "Above them"
   ]
  },
  {
   "cell_type": "markdown",
   "metadata": {},
   "source": [
    "39.When fine-tuning paid search ads, you change a broad-match keyword to a phrase-match keyword using which symbol?"
   ]
  },
  {
   "cell_type": "markdown",
   "metadata": {},
   "source": [
    "Quotation marks"
   ]
  },
  {
   "cell_type": "markdown",
   "metadata": {},
   "source": [
    "40.If you want to track a completed order in your website, what would be a proper place to add the conversion tracking code?"
   ]
  },
  {
   "cell_type": "markdown",
   "metadata": {},
   "source": [
    "Order confirmation page"
   ]
  },
  {
   "cell_type": "markdown",
   "metadata": {},
   "source": [
    "41.A lot of factors can affect how well a website will rank on search engines. What role does metadata have in this process?"
   ]
  },
  {
   "cell_type": "markdown",
   "metadata": {},
   "source": [
    "Provides search engines with more consistent and clear information about what’s on the website"
   ]
  },
  {
   "cell_type": "markdown",
   "metadata": {},
   "source": [
    "42.When advertising using Search Engine Marketing (SEM), you only pay…"
   ]
  },
  {
   "cell_type": "markdown",
   "metadata": {},
   "source": [
    "when your ad is clicked by someone"
   ]
  },
  {
   "cell_type": "markdown",
   "metadata": {},
   "source": [
    "43.Which search query would trigger an ad based on this keyword: [London portrait photographer]?"
   ]
  },
  {
   "cell_type": "markdown",
   "metadata": {},
   "source": [
    "London portrait photographer"
   ]
  },
  {
   "cell_type": "markdown",
   "metadata": {},
   "source": [
    "44.When trying to promote your business locally, what three key bits of information should be present in your directory listing?"
   ]
  },
  {
   "cell_type": "markdown",
   "metadata": {},
   "source": [
    "Business name, address, phone number"
   ]
  },
  {
   "cell_type": "markdown",
   "metadata": {},
   "source": [
    "45.Mobile advertising is a great tool for marketers, but all that good work could be undone if your website isn’t what?"
   ]
  },
  {
   "cell_type": "markdown",
   "metadata": {},
   "source": [
    "Optimised for different devices"
   ]
  },
  {
   "cell_type": "markdown",
   "metadata": {},
   "source": [
    "46.Digital marketing isn’t just about selling your products internationally. It can be used to great effect for local businesses. What do we mean by ‘local businesses’?"
   ]
  },
  {
   "cell_type": "markdown",
   "metadata": {},
   "source": [
    "A business that operates from a specific geographic location"
   ]
  },
  {
   "cell_type": "markdown",
   "metadata": {},
   "source": [
    "47.With more and more users using mobile to look at websites, it is key that you optimise your site so users can find it when searching online. Which two elements should you look to optimise for improved SEO performance?"
   ]
  },
  {
   "cell_type": "markdown",
   "metadata": {},
   "source": [
    "Site speed and usability"
   ]
  },
  {
   "cell_type": "markdown",
   "metadata": {},
   "source": [
    "48.When looking to create video content for your marketing strategy, what three best practices should you look to include?"
   ]
  },
  {
   "cell_type": "markdown",
   "metadata": {},
   "source": [
    "Short, relevant, include a call to action"
   ]
  },
  {
   "cell_type": "markdown",
   "metadata": {},
   "source": [
    "49.How would you classify the content distribution channel that uses influencer and outreach marketing to increase a brand’s reach?"
   ]
  },
  {
   "cell_type": "markdown",
   "metadata": {},
   "source": [
    "Published"
   ]
  },
  {
   "cell_type": "markdown",
   "metadata": {},
   "source": [
    "50.What type of tool can be used to monitor and evaluate your social media audience’s actions on your website?"
   ]
  },
  {
   "cell_type": "markdown",
   "metadata": {},
   "source": [
    "Website analytic tools"
   ]
  },
  {
   "cell_type": "markdown",
   "metadata": {},
   "source": [
    "51.There are lots of social media platforms out there, but what is a benefit of using smaller, more niche social media platforms for your business?"
   ]
  },
  {
   "cell_type": "markdown",
   "metadata": {},
   "source": [
    "Your content will be put in front of specific audiences"
   ]
  },
  {
   "cell_type": "markdown",
   "metadata": {},
   "source": [
    "52.Fill the blank: When it comes to promoting a business locally, search engines can _______________ your business in the search results page if the user is near your location."
   ]
  },
  {
   "cell_type": "markdown",
   "metadata": {},
   "source": [
    "prioritise"
   ]
  },
  {
   "cell_type": "markdown",
   "metadata": {},
   "source": [
    "53.Using social media for business purposes can be very different to running personal profiles. If you’re looking to attract people to your social network, what tone of voice should you consider?"
   ]
  },
  {
   "cell_type": "markdown",
   "metadata": {},
   "source": [
    "Engaging & Inviting"
   ]
  },
  {
   "cell_type": "markdown",
   "metadata": {},
   "source": [
    "54.Fill in the blank: When search engines use factors like geolocation, IP address and location based search terms to produce geographically tailored results, this is called _____________."
   ]
  },
  {
   "cell_type": "markdown",
   "metadata": {},
   "source": [
    "Local Search"
   ]
  },
  {
   "cell_type": "markdown",
   "metadata": {},
   "source": [
    "55.Local directories are a great tool for getting noticed locally online. What would be the first step in using a directory?"
   ]
  },
  {
   "cell_type": "markdown",
   "metadata": {},
   "source": [
    "Create a listing"
   ]
  },
  {
   "cell_type": "markdown",
   "metadata": {},
   "source": [
    "56.What are the benefits of using social media when looking to advertise your business locally?"
   ]
  },
  {
   "cell_type": "markdown",
   "metadata": {},
   "source": [
    "You can target ads to a specific local audience"
   ]
  },
  {
   "cell_type": "markdown",
   "metadata": {},
   "source": [
    "57.Which of the following is a core benefit that content marketing can bring to a business’s online presence?"
   ]
  },
  {
   "cell_type": "markdown",
   "metadata": {},
   "source": [
    "It can improve sales by directing more traffic to your website"
   ]
  },
  {
   "cell_type": "markdown",
   "metadata": {},
   "source": [
    "58.When looking to get noticed locally online, what information should you ensure is on your website as a minimum?"
   ]
  },
  {
   "cell_type": "markdown",
   "metadata": {},
   "source": [
    "Your physical location details"
   ]
  },
  {
   "cell_type": "markdown",
   "metadata": {},
   "source": [
    "59.Why is it important to reach customers on their mobiles when advertising locally?"
   ]
  },
  {
   "cell_type": "markdown",
   "metadata": {},
   "source": [
    "People use their phones while they are on the go"
   ]
  },
  {
   "cell_type": "markdown",
   "metadata": {},
   "source": [
    "60.When looking to promote your products and services locally, what are the benefits of using search engine ads?"
   ]
  },
  {
   "cell_type": "markdown",
   "metadata": {},
   "source": [
    "You can target ads to a specific geographic area"
   ]
  },
  {
   "cell_type": "markdown",
   "metadata": {},
   "source": [
    "61.Which of the following would be described as a good business goal to set for your social media campaigns?"
   ]
  },
  {
   "cell_type": "markdown",
   "metadata": {},
   "source": [
    "Increase audience engagement"
   ]
  },
  {
   "cell_type": "markdown",
   "metadata": {},
   "source": [
    "62.“Because online attention spans are shorter, a great hook or opening sentence is important to draw people in.” What is this a best practice example of?"
   ]
  },
  {
   "cell_type": "markdown",
   "metadata": {},
   "source": [
    "Writing engaging online copy"
   ]
  },
  {
   "cell_type": "markdown",
   "metadata": {},
   "source": [
    "63.When designing mobile advertising campaigns, what is a best practice to identify which keywords to target?"
   ]
  },
  {
   "cell_type": "markdown",
   "metadata": {},
   "source": [
    "Use the Google Keyword research tool or Bing Keyword research tool"
   ]
  },
  {
   "cell_type": "markdown",
   "metadata": {},
   "source": [
    "64.Which of the following tools could be used to gain an insight into the phrases and questions people search for about a given subject online?"
   ]
  },
  {
   "cell_type": "markdown",
   "metadata": {},
   "source": [
    "Answer The Public"
   ]
  },
  {
   "cell_type": "markdown",
   "metadata": {},
   "source": [
    "65.When building a website for a business, what type of design should it have in order to be “mobile friendly”?"
   ]
  },
  {
   "cell_type": "markdown",
   "metadata": {},
   "source": [
    "A responsive design"
   ]
  },
  {
   "cell_type": "markdown",
   "metadata": {},
   "source": [
    "66.Building a plan will help you to focus your efforts when using social media. What should you consider when making your social media plan?"
   ]
  },
  {
   "cell_type": "markdown",
   "metadata": {},
   "source": [
    "Your audience’s interests"
   ]
  },
  {
   "cell_type": "markdown",
   "metadata": {},
   "source": [
    "67.Why is social media a great tool for your business to build trust and engagement with your audience?"
   ]
  },
  {
   "cell_type": "markdown",
   "metadata": {},
   "source": [
    "You can share honest reviews about your product or service"
   ]
  },
  {
   "cell_type": "markdown",
   "metadata": {},
   "source": [
    "68.Mobile apps are a great tool to engage with customers on the go. What is one of the major benefits of a mobile app over a website?"
   ]
  },
  {
   "cell_type": "markdown",
   "metadata": {},
   "source": [
    "Apps allow you to send push notifications"
   ]
  },
  {
   "cell_type": "markdown",
   "metadata": {},
   "source": [
    "69.When looking to promote a business on social media, what is a good way to grow your social media following or engagement quickly?"
   ]
  },
  {
   "cell_type": "markdown",
   "metadata": {},
   "source": [
    "A Paid advertising"
   ]
  },
  {
   "cell_type": "markdown",
   "metadata": {},
   "source": [
    "70.When it comes to knowing which social media platforms to focus your efforts on, how can you work out which one will work best for you?"
   ]
  },
  {
   "cell_type": "markdown",
   "metadata": {},
   "source": [
    "Use online analytics tools to measure engagement"
   ]
  },
  {
   "cell_type": "markdown",
   "metadata": {},
   "source": [
    "71.When it comes to mobile, how would you define usability?"
   ]
  },
  {
   "cell_type": "markdown",
   "metadata": {},
   "source": [
    "The visitor’s experience on your site"
   ]
  },
  {
   "cell_type": "markdown",
   "metadata": {},
   "source": [
    "72.When looking to advertise your business to mobile users, social media advertising can be really effective because…"
   ]
  },
  {
   "cell_type": "markdown",
   "metadata": {},
   "source": [
    "it allows you to target people based on their likes and interests"
   ]
  },
  {
   "cell_type": "markdown",
   "metadata": {},
   "source": [
    "73.Which of the following actions would be most effective for a business to take in order to help them progress towards achieving their content marketing goals?"
   ]
  },
  {
   "cell_type": "markdown",
   "metadata": {},
   "source": [
    "Refining their content marketing strategy as they go, taking into account available data and metrics"
   ]
  },
  {
   "cell_type": "markdown",
   "metadata": {},
   "source": [
    "74.When looking at your email marketing metrics, Click Through Rate (or CTR) highlights which of the following insights?"
   ]
  },
  {
   "cell_type": "markdown",
   "metadata": {},
   "source": [
    "% of people who clicked on a link in the email out of the total recipients"
   ]
  },
  {
   "cell_type": "markdown",
   "metadata": {},
   "source": [
    "75.When discussing display advertising, what is an ad network?"
   ]
  },
  {
   "cell_type": "markdown",
   "metadata": {},
   "source": [
    "platform allowing the advertiser to advertise on websites within the network"
   ]
  },
  {
   "cell_type": "markdown",
   "metadata": {},
   "source": [
    "76.When it comes to email marketing, what do we mean by the term A/B testing?"
   ]
  },
  {
   "cell_type": "markdown",
   "metadata": {},
   "source": [
    "A/B testing means splitting your audience and sending each of them a different variation of your email"
   ]
  },
  {
   "cell_type": "markdown",
   "metadata": {},
   "source": [
    "77.What is one of the benefits of using templates for your email marketing campaigns?"
   ]
  },
  {
   "cell_type": "markdown",
   "metadata": {},
   "source": [
    "You can reuse the same template"
   ]
  },
  {
   "cell_type": "markdown",
   "metadata": {},
   "source": [
    "78.How can you attract social media users to share your video content online?"
   ]
  },
  {
   "cell_type": "markdown",
   "metadata": {},
   "source": [
    "Tag them in posts"
   ]
  },
  {
   "cell_type": "markdown",
   "metadata": {},
   "source": [
    "79.Which of the following is a key strategy for distributing your video content?"
   ]
  },
  {
   "cell_type": "markdown",
   "metadata": {},
   "source": [
    "Share videos across all of your digital marketing tools"
   ]
  },
  {
   "cell_type": "markdown",
   "metadata": {},
   "source": [
    "80.Which of the following is a benefit of search advertising over display advertising?"
   ]
  },
  {
   "cell_type": "markdown",
   "metadata": {},
   "source": [
    "Search advertising is shown to customers who are searching for your specific terms"
   ]
  },
  {
   "cell_type": "markdown",
   "metadata": {},
   "source": [
    "81.When advertisers run online ads that typically include an image for people to click on, it’s called…"
   ]
  },
  {
   "cell_type": "markdown",
   "metadata": {},
   "source": [
    "Display advertising"
   ]
  },
  {
   "cell_type": "markdown",
   "metadata": {},
   "source": [
    "82.Which of the following is the most accurate analogy for a display advertising network?"
   ]
  },
  {
   "cell_type": "markdown",
   "metadata": {},
   "source": [
    "A marketplace between online publishers and advertisers"
   ]
  },
  {
   "cell_type": "markdown",
   "metadata": {},
   "source": [
    "83.Why is it important that you set goals when planning your display ad campaigns?"
   ]
  },
  {
   "cell_type": "markdown",
   "metadata": {},
   "source": [
    "To help determine the performance and allow for optimisation"
   ]
  },
  {
   "cell_type": "markdown",
   "metadata": {},
   "source": [
    "84.If the analytics for your video campaign shows people are only watching the first few seconds of your video, what can you do to try and amend this?"
   ]
  },
  {
   "cell_type": "markdown",
   "metadata": {},
   "source": [
    "Update the description to tell people more about the video"
   ]
  },
  {
   "cell_type": "markdown",
   "metadata": {},
   "source": [
    "85.How can your business benefit from video without making one yourself?"
   ]
  },
  {
   "cell_type": "markdown",
   "metadata": {},
   "source": [
    "Advertising on other people’s videos"
   ]
  },
  {
   "cell_type": "markdown",
   "metadata": {},
   "source": [
    "86.When using display advertising, what could you include in an ad to achieve the goal of driving more sales?"
   ]
  },
  {
   "cell_type": "markdown",
   "metadata": {},
   "source": [
    "Promotions and special offers"
   ]
  },
  {
   "cell_type": "markdown",
   "metadata": {},
   "source": [
    "87.Which of the following is a benefit of display advertising over search advertising?"
   ]
  },
  {
   "cell_type": "markdown",
   "metadata": {},
   "source": [
    "Appearing on relevant websites offering advertising space"
   ]
  },
  {
   "cell_type": "markdown",
   "metadata": {},
   "source": [
    "88.When planning your display advertising, what does the word ‘placement’ mean?"
   ]
  },
  {
   "cell_type": "markdown",
   "metadata": {},
   "source": [
    "The exact location of your ad on a particular page of a website"
   ]
  },
  {
   "cell_type": "markdown",
   "metadata": {},
   "source": [
    "89.Retargeting allows you to…"
   ]
  },
  {
   "cell_type": "markdown",
   "metadata": {},
   "source": [
    "Target users, based on the specific actions they take on your site"
   ]
  },
  {
   "cell_type": "markdown",
   "metadata": {},
   "source": [
    "90.Which form of targeting would you use to display ads to people who have previously visited your website?"
   ]
  },
  {
   "cell_type": "markdown",
   "metadata": {},
   "source": [
    "Retargeting"
   ]
  },
  {
   "cell_type": "markdown",
   "metadata": {},
   "source": [
    "91.Fill the blank: In the world of display advertising, remarketing is a way to _________."
   ]
  },
  {
   "cell_type": "markdown",
   "metadata": {},
   "source": [
    "show ads to people after they visit your website"
   ]
  },
  {
   "cell_type": "markdown",
   "metadata": {},
   "source": [
    "92.When creating video marketing content on a budget, what is the first thing you should consider doing?"
   ]
  },
  {
   "cell_type": "markdown",
   "metadata": {},
   "source": [
    "Planning your content"
   ]
  },
  {
   "cell_type": "markdown",
   "metadata": {},
   "source": [
    "93.What can you do to help your videos appear in search results?"
   ]
  },
  {
   "cell_type": "markdown",
   "metadata": {},
   "source": [
    "Give detailed descriptions of its content"
   ]
  },
  {
   "cell_type": "markdown",
   "metadata": {},
   "source": [
    "94.When using analytics programmes on your website, which of these do not fall under the category of a metric?"
   ]
  },
  {
   "cell_type": "markdown",
   "metadata": {},
   "source": [
    "Browser users use to access your site"
   ]
  },
  {
   "cell_type": "markdown",
   "metadata": {},
   "source": [
    "95.When using analytics on your website, what do we mean by the term ‘conversion’?"
   ]
  },
  {
   "cell_type": "markdown",
   "metadata": {},
   "source": [
    "The act of a user completing a goal"
   ]
  },
  {
   "cell_type": "markdown",
   "metadata": {},
   "source": [
    "96.How is a spreadsheet defined?The act of a user completing a goal"
   ]
  },
  {
   "cell_type": "markdown",
   "metadata": {},
   "source": [
    "An interactive computer application for the organisation, analysis and storage of data"
   ]
  },
  {
   "cell_type": "markdown",
   "metadata": {},
   "source": [
    "97.When using web-based analytics tools, by segmenting the data you will be able to achieve which of the following?"
   ]
  },
  {
   "cell_type": "markdown",
   "metadata": {},
   "source": [
    "Find insights that can help you identify where to make improvements"
   ]
  },
  {
   "cell_type": "markdown",
   "metadata": {},
   "source": [
    "98.What is the benefit of using digital data?"
   ]
  },
  {
   "cell_type": "markdown",
   "metadata": {},
   "source": [
    "It can help you make informed decisions and improve online performance"
   ]
  },
  {
   "cell_type": "markdown",
   "metadata": {},
   "source": [
    "99.When it comes to web analytics, what insights can you gather using analytics tools?"
   ]
  },
  {
   "cell_type": "markdown",
   "metadata": {},
   "source": [
    "How people interact with your website"
   ]
  },
  {
   "cell_type": "markdown",
   "metadata": {},
   "source": [
    "100.When using analytics programmes on your website, which of these do not fall under the category of a dimension?"
   ]
  },
  {
   "cell_type": "markdown",
   "metadata": {},
   "source": [
    "The time a user spends on the site"
   ]
  },
  {
   "cell_type": "markdown",
   "metadata": {},
   "source": [
    "101.What do website analytics allow you to do?"
   ]
  },
  {
   "cell_type": "markdown",
   "metadata": {},
   "source": [
    "Understand users behaviour and improve the effectiveness of your digital marketing efforts"
   ]
  },
  {
   "cell_type": "markdown",
   "metadata": {},
   "source": [
    "102.In the world of analytics, the time the user spent on your site is considered which type of data?"
   ]
  },
  {
   "cell_type": "markdown",
   "metadata": {},
   "source": [
    "Metric"
   ]
  },
  {
   "cell_type": "markdown",
   "metadata": {},
   "source": [
    "103.In the world of analytics, tracking the type of device the user accessed your site by is considered which type of data?"
   ]
  },
  {
   "cell_type": "markdown",
   "metadata": {},
   "source": [
    "Dimension"
   ]
  },
  {
   "cell_type": "markdown",
   "metadata": {},
   "source": [
    "104.How do you handle data in analytics to gain greater insights into our audience’s behaviour?"
   ]
  },
  {
   "cell_type": "markdown",
   "metadata": {},
   "source": [
    "Segment"
   ]
  },
  {
   "cell_type": "markdown",
   "metadata": {},
   "source": [
    "105.Fill the blank: When you link Google Ads with Google Analytics you are able to understand which ________ are driving performance."
   ]
  },
  {
   "cell_type": "markdown",
   "metadata": {},
   "source": [
    "Paid keywords"
   ]
  },
  {
   "cell_type": "markdown",
   "metadata": {},
   "source": [
    "106.When creating a presentation based on lots of data, what principle should you bear in mind?"
   ]
  },
  {
   "cell_type": "markdown",
   "metadata": {},
   "source": [
    "Tailor your approach to your audience in order to tell a better story"
   ]
  },
  {
   "cell_type": "markdown",
   "metadata": {},
   "source": [
    "107.Why should you avoid focusing on collecting as much data as possible?"
   ]
  },
  {
   "cell_type": "markdown",
   "metadata": {},
   "source": [
    "The right information, at the right time, is more valuable"
   ]
  },
  {
   "cell_type": "markdown",
   "metadata": {},
   "source": [
    "108.When building your online product store, to make it as effective as possible you should look to optimise the performance by using images in what kind of way?"
   ]
  },
  {
   "cell_type": "markdown",
   "metadata": {},
   "source": [
    "Ensure images are of a high quality"
   ]
  },
  {
   "cell_type": "markdown",
   "metadata": {},
   "source": [
    "109.Which of these is not a benefit for businesses using fully integrated e-commerce platforms?"
   ]
  },
  {
   "cell_type": "markdown",
   "metadata": {},
   "source": [
    "Automated complaints process system"
   ]
  },
  {
   "cell_type": "markdown",
   "metadata": {},
   "source": [
    "110.When trying to increase the product sales on your website, one way to achieve this is to_________?"
   ]
  },
  {
   "cell_type": "markdown",
   "metadata": {},
   "source": [
    "provide the customer with relevant suggested purchases"
   ]
  },
  {
   "cell_type": "markdown",
   "metadata": {},
   "source": [
    "111.Fill in the blank: When you are considering the layout of the product pages, it is important to put them in ________ order?"
   ]
  },
  {
   "cell_type": "markdown",
   "metadata": {},
   "source": [
    "hierarchical"
   ]
  },
  {
   "cell_type": "markdown",
   "metadata": {},
   "source": [
    "112.When looking to introduce e-commerce functions to your website, which of the following would be the best first step?"
   ]
  },
  {
   "cell_type": "markdown",
   "metadata": {},
   "source": [
    "Set up a web-based money transfer software like PayPal"
   ]
  },
  {
   "cell_type": "markdown",
   "metadata": {},
   "source": [
    "113.If a user abandons their shopping cart without making a purchase, one way to bring them back to complete the purchase is?"
   ]
  },
  {
   "cell_type": "markdown",
   "metadata": {},
   "source": [
    "Retargeting"
   ]
  },
  {
   "cell_type": "markdown",
   "metadata": {},
   "source": [
    "114.Analytics can help optimise your website for which of the following?"
   ]
  },
  {
   "cell_type": "markdown",
   "metadata": {},
   "source": [
    "For different devices, navigation & search"
   ]
  },
  {
   "cell_type": "markdown",
   "metadata": {},
   "source": [
    "115.Fill in the blank: When considering expanding a business internationally, the best place to start is to__________?"
   ]
  },
  {
   "cell_type": "markdown",
   "metadata": {},
   "source": [
    "use online tools to help you understand where there’s a strong demand for your products"
   ]
  },
  {
   "cell_type": "markdown",
   "metadata": {},
   "source": [
    "116.Fill the blanks: When advertising internationally, you should make your business ______ to the new market, consider the ___________ and any possible ___________ implications."
   ]
  },
  {
   "cell_type": "markdown",
   "metadata": {},
   "source": [
    "accessible | supply chain | legal"
   ]
  },
  {
   "cell_type": "markdown",
   "metadata": {},
   "source": [
    "117.When looking to expand your business internationally on social media, what should you do first?"
   ]
  },
  {
   "cell_type": "markdown",
   "metadata": {},
   "source": [
    "Analyse platforms popular in that area"
   ]
  },
  {
   "cell_type": "markdown",
   "metadata": {},
   "source": [
    "118.If you are looking to expand your company’s presence online internationally, which of the following should you consider with regards to your online content?"
   ]
  },
  {
   "cell_type": "markdown",
   "metadata": {},
   "source": [
    "Translated but also locally adapted for the audience"
   ]
  }
 ],
 "metadata": {
  "kernelspec": {
   "display_name": "Python 3",
   "language": "python",
   "name": "python3"
  },
  "language_info": {
   "codemirror_mode": {
    "name": "ipython",
    "version": 3
   },
   "file_extension": ".py",
   "mimetype": "text/x-python",
   "name": "python",
   "nbconvert_exporter": "python",
   "pygments_lexer": "ipython3",
   "version": "3.7.4"
  }
 },
 "nbformat": 4,
 "nbformat_minor": 2
}
