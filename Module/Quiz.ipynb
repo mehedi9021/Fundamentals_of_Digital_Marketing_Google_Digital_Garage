{
 "cells": [
  {
   "cell_type": "markdown",
   "metadata": {},
   "source": [
    "1.The increased use of the internet presents a lot of potential for which types of businesses?"
   ]
  },
  {
   "cell_type": "markdown",
   "metadata": {},
   "source": [
    "All businesses"
   ]
  },
  {
   "cell_type": "markdown",
   "metadata": {},
   "source": [
    "2.Taking a business online can involve many different steps. When starting out, which activity could be a part of this process?"
   ]
  },
  {
   "cell_type": "markdown",
   "metadata": {},
   "source": [
    "Creating a business listing in local directories"
   ]
  },
  {
   "cell_type": "markdown",
   "metadata": {},
   "source": [
    "3.Which of the following is the easiest way for visitors to learn about a business while visiting a website?"
   ]
  },
  {
   "cell_type": "markdown",
   "metadata": {},
   "source": [
    "Browsing your product pages and reviewing the Frequently Asked Questions page"
   ]
  },
  {
   "cell_type": "markdown",
   "metadata": {},
   "source": [
    "4.What is a key benefit of having an online presence for a business?"
   ]
  },
  {
   "cell_type": "markdown",
   "metadata": {},
   "source": [
    "Being visible when people search for a business like yours"
   ]
  },
  {
   "cell_type": "markdown",
   "metadata": {},
   "source": [
    "5.Which tool helps you measure the success of your website?"
   ]
  },
  {
   "cell_type": "markdown",
   "metadata": {},
   "source": [
    "Analytics"
   ]
  },
  {
   "cell_type": "markdown",
   "metadata": {},
   "source": [
    "6.Which of the following statements is true when it comes to taking a business online?"
   ]
  },
  {
   "cell_type": "markdown",
   "metadata": {},
   "source": [
    "Use analytics to make informed decisions"
   ]
  },
  {
   "cell_type": "markdown",
   "metadata": {},
   "source": [
    "7.Which term best describes the business activity that occurs when website visitors buy products or services from you online?"
   ]
  },
  {
   "cell_type": "markdown",
   "metadata": {},
   "source": [
    "A E-commerce"
   ]
  },
  {
   "cell_type": "markdown",
   "metadata": {},
   "source": [
    "8.Which of the following statements is true when marketing your business online?"
   ]
  },
  {
   "cell_type": "markdown",
   "metadata": {},
   "source": [
    "Social media is a great way to engage your audience"
   ]
  },
  {
   "cell_type": "markdown",
   "metadata": {},
   "source": [
    "9.Which of the following statements is true when it comes to developing a web presence for a business?"
   ]
  },
  {
   "cell_type": "markdown",
   "metadata": {},
   "source": [
    "Mobile apps enable your customers to purchase your products without being on your website"
   ]
  },
  {
   "cell_type": "markdown",
   "metadata": {},
   "source": [
    "10.What is a web server?"
   ]
  },
  {
   "cell_type": "markdown",
   "metadata": {},
   "source": [
    "A computer connected to the Internet with software that allows it to host all the components of your website"
   ]
  },
  {
   "cell_type": "markdown",
   "metadata": {},
   "source": [
    "11.Fill in the blank: A __________ is a shortcut to other pages on your site or elsewhere on the web."
   ]
  },
  {
   "cell_type": "markdown",
   "metadata": {},
   "source": [
    "Hyperlink"
   ]
  },
  {
   "cell_type": "markdown",
   "metadata": {},
   "source": [
    "12.Which of the following is something you’ll probably want to exclude from your website?"
   ]
  },
  {
   "cell_type": "markdown",
   "metadata": {},
   "source": [
    "A lot of deep scientific information and detailed statistics"
   ]
  },
  {
   "cell_type": "markdown",
   "metadata": {},
   "source": [
    "13.Which of the following is an example of a ‘call to action’ on a website?"
   ]
  },
  {
   "cell_type": "markdown",
   "metadata": {},
   "source": [
    "A ‘Get directions to our store’ button which when clicked, redirects to a map displaying directions to the store based on the customer’s current address"
   ]
  },
  {
   "cell_type": "markdown",
   "metadata": {},
   "source": [
    "14.What should you consider when developing your website content?"
   ]
  },
  {
   "cell_type": "markdown",
   "metadata": {},
   "source": [
    "What your customers are looking for"
   ]
  },
  {
   "cell_type": "markdown",
   "metadata": {},
   "source": [
    "15.What is the first step in creating an online business strategy?"
   ]
  },
  {
   "cell_type": "markdown",
   "metadata": {},
   "source": [
    "Identifying business goals"
   ]
  },
  {
   "cell_type": "markdown",
   "metadata": {},
   "source": [
    "16.What is the purpose of the ‘See, Think, Do, Care’ framework?"
   ]
  },
  {
   "cell_type": "markdown",
   "metadata": {},
   "source": [
    "To help a business understand the customer journey online"
   ]
  },
  {
   "cell_type": "markdown",
   "metadata": {},
   "source": [
    "17.Why is optimising customer touchpoints online beneficial for businesses?"
   ]
  },
  {
   "cell_type": "markdown",
   "metadata": {},
   "source": [
    "It provides customers with value every time they come into contact with a brand, helping build trust"
   ]
  },
  {
   "cell_type": "markdown",
   "metadata": {},
   "source": [
    "18.Once you’ve worked out your Unique Selling Point (USP), how would you use it in a long-term online strategy?"
   ]
  },
  {
   "cell_type": "markdown",
   "metadata": {},
   "source": [
    "Incorporate it within marketing materials across all channels to help raise customer awareness"
   ]
  },
  {
   "cell_type": "markdown",
   "metadata": {},
   "source": [
    "19.What type of information can KPIs provide?"
   ]
  },
  {
   "cell_type": "markdown",
   "metadata": {},
   "source": [
    "Long-term projections"
   ]
  },
  {
   "cell_type": "markdown",
   "metadata": {},
   "source": [
    "20.Why are search engines a great place for a business to be found?"
   ]
  },
  {
   "cell_type": "markdown",
   "metadata": {},
   "source": [
    "People who search are actively looking for information, products or services"
   ]
  },
  {
   "cell_type": "markdown",
   "metadata": {},
   "source": [
    "21.What technology do search engines use to ‘crawl’ websites?"
   ]
  },
  {
   "cell_type": "markdown",
   "metadata": {},
   "source": [
    "Bots"
   ]
  },
  {
   "cell_type": "markdown",
   "metadata": {},
   "source": [
    "22.Which of the following can help a search engine understand what your page is about?"
   ]
  },
  {
   "cell_type": "markdown",
   "metadata": {},
   "source": [
    "The title tag"
   ]
  },
  {
   "cell_type": "markdown",
   "metadata": {},
   "source": [
    "23.Fill in the blank: Spending money on search advertising influences how your website appears in ___________."
   ]
  },
  {
   "cell_type": "markdown",
   "metadata": {},
   "source": [
    "The search results page"
   ]
  },
  {
   "cell_type": "markdown",
   "metadata": {},
   "source": [
    "24.Which of these is an important factor in the paid search auction system?"
   ]
  },
  {
   "cell_type": "markdown",
   "metadata": {},
   "source": [
    "How relevant your ads are"
   ]
  },
  {
   "cell_type": "markdown",
   "metadata": {},
   "source": [
    "25.Which of these can Google Search Console help you to do?"
   ]
  },
  {
   "cell_type": "markdown",
   "metadata": {},
   "source": [
    "It helps you understand which keywords people are searching for on Google"
   ]
  },
  {
   "cell_type": "markdown",
   "metadata": {},
   "source": [
    "26.Which of the following factors should you consider when optimising your website for search engines?"
   ]
  },
  {
   "cell_type": "markdown",
   "metadata": {},
   "source": [
    "Site popularity"
   ]
  },
  {
   "cell_type": "markdown",
   "metadata": {},
   "source": [
    "27.What should be the first step of a structured SEO plan?"
   ]
  },
  {
   "cell_type": "markdown",
   "metadata": {},
   "source": [
    "Keyword research"
   ]
  },
  {
   "cell_type": "markdown",
   "metadata": {},
   "source": [
    "28.When it comes to search ads, which of the following could dictate how an ad will perform against a competitor?"
   ]
  },
  {
   "cell_type": "markdown",
   "metadata": {},
   "source": [
    "Bid value"
   ]
  },
  {
   "cell_type": "markdown",
   "metadata": {},
   "source": [
    "29.Fill in the blank: Short strings of specific keywords with low search volume are called ___________."
   ]
  },
  {
   "cell_type": "markdown",
   "metadata": {},
   "source": [
    "Long-tail keywords"
   ]
  },
  {
   "cell_type": "markdown",
   "metadata": {},
   "source": [
    "30.Which of the following would be an ideal goal for an SEO plan?"
   ]
  },
  {
   "cell_type": "markdown",
   "metadata": {},
   "source": [
    "Increasing how many relevant people visit your website"
   ]
  },
  {
   "cell_type": "markdown",
   "metadata": {},
   "source": [
    "31.Which of the following page titles would be most suitable for a website page describing a store’s return policy?"
   ]
  },
  {
   "cell_type": "markdown",
   "metadata": {},
   "source": [
    "[Company Name’s] Return Policy"
   ]
  },
  {
   "cell_type": "markdown",
   "metadata": {},
   "source": [
    "32.Which of the following is a good way to get other websites to link to your site?"
   ]
  },
  {
   "cell_type": "markdown",
   "metadata": {},
   "source": [
    "Building relationships with similar sites"
   ]
  },
  {
   "cell_type": "markdown",
   "metadata": {},
   "source": [
    "33.When expanding a business internationally, which of the following is most important to provide on your website?"
   ]
  },
  {
   "cell_type": "markdown",
   "metadata": {},
   "source": [
    "Products and delivery details in the correct currency"
   ]
  },
  {
   "cell_type": "markdown",
   "metadata": {},
   "source": [
    "34.Search engine marketing can also be called what?"
   ]
  },
  {
   "cell_type": "markdown",
   "metadata": {},
   "source": [
    "Pay-per-click advertising"
   ]
  },
  {
   "cell_type": "markdown",
   "metadata": {},
   "source": [
    "35.In an SEM auction, your Quality Score is based on which aspect of your ad?"
   ]
  },
  {
   "cell_type": "markdown",
   "metadata": {},
   "source": [
    "Relevance"
   ]
  },
  {
   "cell_type": "markdown",
   "metadata": {},
   "source": [
    "36.Fill in the blank: It’s possible to determine how well a/an ___________ will perform without bidding on it."
   ]
  },
  {
   "cell_type": "markdown",
   "metadata": {},
   "source": [
    "Keyword"
   ]
  },
  {
   "cell_type": "markdown",
   "metadata": {},
   "source": [
    "37.What should your search ad have in order to promote more clicks?"
   ]
  },
  {
   "cell_type": "markdown",
   "metadata": {},
   "source": [
    "A call to action"
   ]
  },
  {
   "cell_type": "markdown",
   "metadata": {},
   "source": [
    "38.Which of the following is a benefit of using relevant ads and landing pages?"
   ]
  },
  {
   "cell_type": "markdown",
   "metadata": {},
   "source": [
    "Higher ad positions on the search results page"
   ]
  },
  {
   "cell_type": "markdown",
   "metadata": {},
   "source": [
    "39.When it comes to search ads, which description best describes ‘negative keywords’?"
   ]
  },
  {
   "cell_type": "markdown",
   "metadata": {},
   "source": [
    "Keywords that are excluded from a campaign"
   ]
  },
  {
   "cell_type": "markdown",
   "metadata": {},
   "source": [
    "40.Fill in the blank: If you use __________ keywords when building your search ads, minor variations, like plurals, can still trigger the ad."
   ]
  },
  {
   "cell_type": "markdown",
   "metadata": {},
   "source": [
    "Exact Match"
   ]
  },
  {
   "cell_type": "markdown",
   "metadata": {},
   "source": [
    "41.What can conversion tracking in search help you measure?"
   ]
  },
  {
   "cell_type": "markdown",
   "metadata": {},
   "source": [
    "How many people visiting your site from a search ad end up completing a purchase"
   ]
  },
  {
   "cell_type": "markdown",
   "metadata": {},
   "source": [
    "42.How can you improve a business’s visibility to people located near you geographically?"
   ]
  },
  {
   "cell_type": "markdown",
   "metadata": {},
   "source": [
    "Make sure your phone number, address and business hours are easy to find"
   ]
  },
  {
   "cell_type": "markdown",
   "metadata": {},
   "source": [
    "43.Which of the following is an example of a local search?"
   ]
  },
  {
   "cell_type": "markdown",
   "metadata": {},
   "source": [
    "“bike shop near me”"
   ]
  },
  {
   "cell_type": "markdown",
   "metadata": {},
   "source": [
    "44.Which of the following is a benefit of registering your business in online local listings?"
   ]
  },
  {
   "cell_type": "markdown",
   "metadata": {},
   "source": [
    "Increased likelihood of being discovered through search engines"
   ]
  },
  {
   "cell_type": "markdown",
   "metadata": {},
   "source": [
    "45.Which three pieces of information are essential to include first in your local directory listing?"
   ]
  },
  {
   "cell_type": "markdown",
   "metadata": {},
   "source": [
    "Business name, business address, telephone numbers"
   ]
  },
  {
   "cell_type": "markdown",
   "metadata": {},
   "source": [
    "46.Which of the following factors help search engines determine if your business is local?"
   ]
  },
  {
   "cell_type": "markdown",
   "metadata": {},
   "source": [
    "Location details on the website, quality content and how mobile friendly the website is"
   ]
  },
  {
   "cell_type": "markdown",
   "metadata": {},
   "source": [
    "47.When looking to attract a local audience, why it is important to optimise your website and content for mobile users?"
   ]
  },
  {
   "cell_type": "markdown",
   "metadata": {},
   "source": [
    "Because local users tend to use their mobile devices when they’re out of the house"
   ]
  },
  {
   "cell_type": "markdown",
   "metadata": {},
   "source": [
    "48.Which of the following can help you gain visibility in search engines?"
   ]
  },
  {
   "cell_type": "markdown",
   "metadata": {},
   "source": [
    "Adding relevant content that highlights the location of your business"
   ]
  },
  {
   "cell_type": "markdown",
   "metadata": {},
   "source": [
    "49.Which of the following can businesses achieve by using social media?"
   ]
  },
  {
   "cell_type": "markdown",
   "metadata": {},
   "source": [
    "Attract new audiences"
   ]
  },
  {
   "cell_type": "markdown",
   "metadata": {},
   "source": [
    "50.Fill in the blank: Businesses should focus on social media platforms with _______."
   ]
  },
  {
   "cell_type": "markdown",
   "metadata": {},
   "source": [
    "A relevant audience"
   ]
  },
  {
   "cell_type": "markdown",
   "metadata": {},
   "source": [
    "51.Which of the following is an example of a social media goal?"
   ]
  },
  {
   "cell_type": "markdown",
   "metadata": {},
   "source": [
    "Drive more traffic to your store"
   ]
  },
  {
   "cell_type": "markdown",
   "metadata": {},
   "source": [
    "52.Which details should you look to include on a business profile page on social media?"
   ]
  },
  {
   "cell_type": "markdown",
   "metadata": {},
   "source": [
    "Description of the business"
   ]
  },
  {
   "cell_type": "markdown",
   "metadata": {},
   "source": [
    "53.A robust social media plan includes which of the following?"
   ]
  },
  {
   "cell_type": "markdown",
   "metadata": {},
   "source": [
    "A long-term schedule identifying when to post content"
   ]
  },
  {
   "cell_type": "markdown",
   "metadata": {},
   "source": [
    "54.What is the best way to put your social content in front of people who don’t already follow you?"
   ]
  },
  {
   "cell_type": "markdown",
   "metadata": {},
   "source": [
    "Use paid promotion to reach new audiences"
   ]
  },
  {
   "cell_type": "markdown",
   "metadata": {},
   "source": [
    "55.What can social media analytics tools help you measure when assessing campaign results?"
   ]
  },
  {
   "cell_type": "markdown",
   "metadata": {},
   "source": [
    "Whether the visitor clicked on a paid ad or organic listing"
   ]
  },
  {
   "cell_type": "markdown",
   "metadata": {},
   "source": [
    "56.Which of the following is a pitfall when using social media for business?"
   ]
  },
  {
   "cell_type": "markdown",
   "metadata": {},
   "source": [
    "Not having the resources to respond to comments and questions in a timely manner"
   ]
  },
  {
   "cell_type": "markdown",
   "metadata": {},
   "source": [
    "57.When looking to ensure your website is easily accessible by mobile users, what should you focus on doing first?"
   ]
  },
  {
   "cell_type": "markdown",
   "metadata": {},
   "source": [
    "Optimise your site"
   ]
  },
  {
   "cell_type": "markdown",
   "metadata": {},
   "source": [
    "58.What does responsive design mean?"
   ]
  },
  {
   "cell_type": "markdown",
   "metadata": {},
   "source": [
    "Your website will adapt to suit whichever device it is being viewed on"
   ]
  },
  {
   "cell_type": "markdown",
   "metadata": {},
   "source": [
    "59.When it comes to optimising your website’s SEO for mobile users, which of the following is a crucial factor to keep in mind?"
   ]
  },
  {
   "cell_type": "markdown",
   "metadata": {},
   "source": [
    "Performance and usability"
   ]
  },
  {
   "cell_type": "markdown",
   "metadata": {},
   "source": [
    "60.What can a business use to send messages to users who have already downloaded their app?"
   ]
  },
  {
   "cell_type": "markdown",
   "metadata": {},
   "source": [
    "Push notifications"
   ]
  },
  {
   "cell_type": "markdown",
   "metadata": {},
   "source": [
    "61.When considering how mobile users will search for your business, which types of keywords should you focus on?"
   ]
  },
  {
   "cell_type": "markdown",
   "metadata": {},
   "source": [
    "Shorter keywords and phrases"
   ]
  },
  {
   "cell_type": "markdown",
   "metadata": {},
   "source": [
    "62.Before running search ads, you should make sure your site is mobile-friendly. Which scenario best describes a mobile-friendly experience for a customer?"
   ]
  },
  {
   "cell_type": "markdown",
   "metadata": {},
   "source": [
    "The site works on different mobile devices"
   ]
  },
  {
   "cell_type": "markdown",
   "metadata": {},
   "source": [
    "63.Which of the following can be used to target an audience when using some social media ads?"
   ]
  },
  {
   "cell_type": "markdown",
   "metadata": {},
   "source": [
    "People’s relationship status"
   ]
  },
  {
   "cell_type": "markdown",
   "metadata": {},
   "source": [
    "64.When making video content for your display ads, what is most important to ensure?"
   ]
  },
  {
   "cell_type": "markdown",
   "metadata": {},
   "source": [
    "Videos are relevant, short and include a CTA"
   ]
  },
  {
   "cell_type": "markdown",
   "metadata": {},
   "source": [
    "65.Which of the following is an accurate definition of what a content marketing campaign involves?"
   ]
  },
  {
   "cell_type": "markdown",
   "metadata": {},
   "source": [
    "The creation and promotion of online materials with the goal of increasing interest in a product or service"
   ]
  },
  {
   "cell_type": "markdown",
   "metadata": {},
   "source": [
    "66.What does the following definition describe? ‘The division of an audience into groups of who they are and what they like, with a goal of identifying a group most interested in your product/service.’"
   ]
  },
  {
   "cell_type": "markdown",
   "metadata": {},
   "source": [
    "Audience segmentation"
   ]
  },
  {
   "cell_type": "markdown",
   "metadata": {},
   "source": [
    "67.Fill in the blank: When describing the purpose of content, what is missing? ‘To entertain, to inspire, to _______ and to convince’."
   ]
  },
  {
   "cell_type": "markdown",
   "metadata": {},
   "source": [
    "Educate"
   ]
  },
  {
   "cell_type": "markdown",
   "metadata": {},
   "source": [
    "68.Which of the following best describes why approaches to writing need to be adapted for online content?"
   ]
  },
  {
   "cell_type": "markdown",
   "metadata": {},
   "source": [
    "Online readers have a reduced attention span, due to being flooded with information"
   ]
  },
  {
   "cell_type": "markdown",
   "metadata": {},
   "source": [
    "69.What are ‘highlighting key dates’ and ‘considering multiple channels’ best practices of?"
   ]
  },
  {
   "cell_type": "markdown",
   "metadata": {},
   "source": [
    "Creating a content calendar"
   ]
  },
  {
   "cell_type": "markdown",
   "metadata": {},
   "source": [
    "70.Which of the following metrics could help you understand which blog post is resonating the most with your audience?"
   ]
  },
  {
   "cell_type": "markdown",
   "metadata": {},
   "source": [
    "Session duration"
   ]
  },
  {
   "cell_type": "markdown",
   "metadata": {},
   "source": [
    "71.Which of the following is a common feature of email marketing platforms?"
   ]
  },
  {
   "cell_type": "markdown",
   "metadata": {},
   "source": [
    "A feature allowing users to unsubscribe from your emails"
   ]
  },
  {
   "cell_type": "markdown",
   "metadata": {},
   "source": [
    "72.Which of these is a good practice to keep in mind when sending emails to your contacts?"
   ]
  },
  {
   "cell_type": "markdown",
   "metadata": {},
   "source": [
    "Run an A/B test on your subject line to determine which one works best"
   ]
  },
  {
   "cell_type": "markdown",
   "metadata": {},
   "source": [
    "73.If the open rate of your emails seems low, which of the following could help you fix that?"
   ]
  },
  {
   "cell_type": "markdown",
   "metadata": {},
   "source": [
    "Adjust the subject line of your email"
   ]
  },
  {
   "cell_type": "markdown",
   "metadata": {},
   "source": [
    "74.Which of the following statements is true when it comes to running email campaigns for a business?"
   ]
  },
  {
   "cell_type": "markdown",
   "metadata": {},
   "source": [
    "There’s no need to use sponsored ads within your email marketing"
   ]
  },
  {
   "cell_type": "markdown",
   "metadata": {},
   "source": [
    "75.If you own a film blog, which type of customer can you expect to reach with display advertising?"
   ]
  },
  {
   "cell_type": "markdown",
   "metadata": {},
   "source": [
    "People who haven’t read your blog before but are interested in your subject"
   ]
  },
  {
   "cell_type": "markdown",
   "metadata": {},
   "source": [
    "76.Fill in the blank: The ads on search engines are usually made up of ________."
   ]
  },
  {
   "cell_type": "markdown",
   "metadata": {},
   "source": [
    "Text"
   ]
  },
  {
   "cell_type": "markdown",
   "metadata": {},
   "source": [
    "77.When using search engine marketing, where can your ads appear?"
   ]
  },
  {
   "cell_type": "markdown",
   "metadata": {},
   "source": [
    "Only on search engines"
   ]
  },
  {
   "cell_type": "markdown",
   "metadata": {},
   "source": [
    "78.When setting up display advertising campaigns, who can you target?"
   ]
  },
  {
   "cell_type": "markdown",
   "metadata": {},
   "source": [
    "People who speak different languages"
   ]
  },
  {
   "cell_type": "markdown",
   "metadata": {},
   "source": [
    "79.In what way can display advertising be effective?"
   ]
  },
  {
   "cell_type": "markdown",
   "metadata": {},
   "source": [
    "It drives traffic to your website"
   ]
  },
  {
   "cell_type": "markdown",
   "metadata": {},
   "source": [
    "80.Which of the following is an example of the type of data that advertising networks automatically collect and share with businesses?"
   ]
  },
  {
   "cell_type": "markdown",
   "metadata": {},
   "source": [
    "The cost of each ad you publish"
   ]
  },
  {
   "cell_type": "markdown",
   "metadata": {},
   "source": [
    "81.Which of the following is true when purchasing ad placements on an advertising network?"
   ]
  },
  {
   "cell_type": "markdown",
   "metadata": {},
   "source": [
    "The network provides data on the click-through-rate"
   ]
  },
  {
   "cell_type": "markdown",
   "metadata": {},
   "source": [
    "82.If a person adds a product to a shopping cart but then leaves the website – which of the following tactics is most likely to encourage that person to return and purchase the product?"
   ]
  },
  {
   "cell_type": "markdown",
   "metadata": {},
   "source": [
    "Retargeting with a display ad that has a discount coupon"
   ]
  },
  {
   "cell_type": "markdown",
   "metadata": {},
   "source": [
    "83.What is the first step of display retargeting?"
   ]
  },
  {
   "cell_type": "markdown",
   "metadata": {},
   "source": [
    "Defining your audience"
   ]
  },
  {
   "cell_type": "markdown",
   "metadata": {},
   "source": [
    "84.When incorporating videos into a digital strategy, which of the following tactics provides value to customers?"
   ]
  },
  {
   "cell_type": "markdown",
   "metadata": {},
   "source": [
    "Publishing a how-to video on their website"
   ]
  },
  {
   "cell_type": "markdown",
   "metadata": {},
   "source": [
    "85.What can using video as part of your online presence help you create?"
   ]
  },
  {
   "cell_type": "markdown",
   "metadata": {},
   "source": [
    "A channel to engage with customers"
   ]
  },
  {
   "cell_type": "markdown",
   "metadata": {},
   "source": [
    "86.Fill in the blank: As a small business, creating videos to showcase your business or product requires only ______."
   ]
  },
  {
   "cell_type": "markdown",
   "metadata": {},
   "source": [
    "Creativity, planning and any budget"
   ]
  },
  {
   "cell_type": "markdown",
   "metadata": {},
   "source": [
    "87.Using videos in email marketing and social media is an effective way to do what?"
   ]
  },
  {
   "cell_type": "markdown",
   "metadata": {},
   "source": [
    "Engage and grow your audience"
   ]
  },
  {
   "cell_type": "markdown",
   "metadata": {},
   "source": [
    "88.How can you take advantage of video for your product/services without actually making a video?"
   ]
  },
  {
   "cell_type": "markdown",
   "metadata": {},
   "source": [
    "Advertise on other people’s videos"
   ]
  },
  {
   "cell_type": "markdown",
   "metadata": {},
   "source": [
    "89.When looking at your video analytics, you discover people are only watching the first few seconds of your video. What should you do?"
   ]
  },
  {
   "cell_type": "markdown",
   "metadata": {},
   "source": [
    "Consider updating your preview images, video titles or descriptions"
   ]
  },
  {
   "cell_type": "markdown",
   "metadata": {},
   "source": [
    "90.Fill in the blank: Website analytics can tell you _____________."
   ]
  },
  {
   "cell_type": "markdown",
   "metadata": {},
   "source": [
    "What time of day your website gets the most traffic"
   ]
  },
  {
   "cell_type": "markdown",
   "metadata": {},
   "source": [
    "91.Analytics can give you immediate valuable information about which type of customers?"
   ]
  },
  {
   "cell_type": "markdown",
   "metadata": {},
   "source": [
    "Previous and current customers"
   ]
  },
  {
   "cell_type": "markdown",
   "metadata": {},
   "source": [
    "92.If your key business goal is to get people to book rooms at your guesthouse, what data are you most likely to be interested in?"
   ]
  },
  {
   "cell_type": "markdown",
   "metadata": {},
   "source": [
    "How many people visiting your site book a room with you"
   ]
  },
  {
   "cell_type": "markdown",
   "metadata": {},
   "source": [
    "93.Most web analytics tools can tell you what information about the user?"
   ]
  },
  {
   "cell_type": "markdown",
   "metadata": {},
   "source": [
    "Their location, type of device they’re using and pages visited"
   ]
  },
  {
   "cell_type": "markdown",
   "metadata": {},
   "source": [
    "94.Fill in the blank: If an ad is not performing well, one effective tactic is to _____________."
   ]
  },
  {
   "cell_type": "markdown",
   "metadata": {},
   "source": [
    "Tweak the ad’s copy and analyse the results"
   ]
  },
  {
   "cell_type": "markdown",
   "metadata": {},
   "source": [
    "95.Which section of Google Analytics can tell you whether visitors have found your website via social media?"
   ]
  },
  {
   "cell_type": "markdown",
   "metadata": {},
   "source": [
    "Acquisition"
   ]
  },
  {
   "cell_type": "markdown",
   "metadata": {},
   "source": [
    "96.Which type of data relates to a metric that can be represented with a number?"
   ]
  },
  {
   "cell_type": "markdown",
   "metadata": {},
   "source": [
    "Quantitative"
   ]
  },
  {
   "cell_type": "markdown",
   "metadata": {},
   "source": [
    "97.What makes the data cycle useful?"
   ]
  },
  {
   "cell_type": "markdown",
   "metadata": {},
   "source": [
    "It helps you make the most of the data collected from marketing activities"
   ]
  },
  {
   "cell_type": "markdown",
   "metadata": {},
   "source": [
    "98.Fill in the blank: Actionable insights can be described as explaining the ______ of an online marketing campaign."
   ]
  },
  {
   "cell_type": "markdown",
   "metadata": {},
   "source": [
    "‘Why’"
   ]
  },
  {
   "cell_type": "markdown",
   "metadata": {},
   "source": [
    "99.Which of the following is a benefit of using spreadsheets?"
   ]
  },
  {
   "cell_type": "markdown",
   "metadata": {},
   "source": [
    "Vast quantities of data can be stored, sorted and analysed quickly"
   ]
  },
  {
   "cell_type": "markdown",
   "metadata": {},
   "source": [
    "100.If you needed to showcase which parts of a website are being clicked on the most, which presentation type should you consider?"
   ]
  },
  {
   "cell_type": "markdown",
   "metadata": {},
   "source": [
    "Heat map"
   ]
  },
  {
   "cell_type": "markdown",
   "metadata": {},
   "source": [
    "101.What would be beneficial to include on a product description page?"
   ]
  },
  {
   "cell_type": "markdown",
   "metadata": {},
   "source": [
    "Reviews of the product"
   ]
  },
  {
   "cell_type": "markdown",
   "metadata": {},
   "source": [
    "102.Which of the following is an advantage of e-commerce?"
   ]
  },
  {
   "cell_type": "markdown",
   "metadata": {},
   "source": [
    "Low operational costs"
   ]
  },
  {
   "cell_type": "markdown",
   "metadata": {},
   "source": [
    "103.To an owner or administrator, what is a functional benefit of having an online store?"
   ]
  },
  {
   "cell_type": "markdown",
   "metadata": {},
   "source": [
    "It provides a backend system with order management"
   ]
  },
  {
   "cell_type": "markdown",
   "metadata": {},
   "source": [
    "104.What is the name of the process that describes what happens when a customer is taken to a separate site to complete a transaction before being sent back to the original site again?"
   ]
  },
  {
   "cell_type": "markdown",
   "metadata": {},
   "source": [
    "Third-party payment processing"
   ]
  },
  {
   "cell_type": "markdown",
   "metadata": {},
   "source": [
    "105.Which of the following is a sign that customers are having trouble using a particular device to make purchases?"
   ]
  },
  {
   "cell_type": "markdown",
   "metadata": {},
   "source": [
    "Analytics shows you have a lot of mobile visitors, but very few purchases through mobile"
   ]
  },
  {
   "cell_type": "markdown",
   "metadata": {},
   "source": [
    "106.What is an example of product merchandising?"
   ]
  },
  {
   "cell_type": "markdown",
   "metadata": {},
   "source": [
    "Displaying very specific, featured products on your home page"
   ]
  },
  {
   "cell_type": "markdown",
   "metadata": {},
   "source": [
    "107.Which of the following statements is true when describing how retargeting ads work?"
   ]
  },
  {
   "cell_type": "markdown",
   "metadata": {},
   "source": [
    "Once a user visits your site, the code drops an anonymous browser cookie"
   ]
  },
  {
   "cell_type": "markdown",
   "metadata": {},
   "source": [
    "108.What is the best way to translate the content on your website for a new market?"
   ]
  },
  {
   "cell_type": "markdown",
   "metadata": {},
   "source": [
    "Native speakers"
   ]
  },
  {
   "cell_type": "markdown",
   "metadata": {},
   "source": [
    "109.Before starting to promote products to other countries online, what could you use to gauge demand for your product in that specific market?"
   ]
  },
  {
   "cell_type": "markdown",
   "metadata": {},
   "source": [
    "Keyword planning tools"
   ]
  },
  {
   "cell_type": "markdown",
   "metadata": {},
   "source": [
    "110.When adapting your website for customers who speak a different language, what should you do?"
   ]
  },
  {
   "cell_type": "markdown",
   "metadata": {},
   "source": [
    "Translate your content with consideration to particular words and phrases"
   ]
  },
  {
   "cell_type": "markdown",
   "metadata": {},
   "source": [
    "111.Which of the following is primarily meant to target new customers online?"
   ]
  },
  {
   "cell_type": "markdown",
   "metadata": {},
   "source": [
    "Search advertising"
   ]
  },
  {
   "cell_type": "markdown",
   "metadata": {},
   "source": [
    "112.What should a business do first, when considering going into a new market?"
   ]
  },
  {
   "cell_type": "markdown",
   "metadata": {},
   "source": [
    "Determine its ability to deliver products and review all tax and legal information"
   ]
  },
  {
   "cell_type": "markdown",
   "metadata": {},
   "source": [
    "113.When selling to people in different countries, what payment form should you consider using if you aren’t already?"
   ]
  },
  {
   "cell_type": "markdown",
   "metadata": {},
   "source": [
    "Paypal or Worldpay"
   ]
  },
  {
   "cell_type": "markdown",
   "metadata": {},
   "source": [
    "114.Which of the following options is important to research when planning to expand delivery of products and services to customers across the globe?"
   ]
  },
  {
   "cell_type": "markdown",
   "metadata": {},
   "source": [
    "The legal and tax considerations in that market"
   ]
  }
 ],
 "metadata": {
  "kernelspec": {
   "display_name": "Python 3",
   "language": "python",
   "name": "python3"
  },
  "language_info": {
   "codemirror_mode": {
    "name": "ipython",
    "version": 3
   },
   "file_extension": ".py",
   "mimetype": "text/x-python",
   "name": "python",
   "nbconvert_exporter": "python",
   "pygments_lexer": "ipython3",
   "version": "3.7.4"
  }
 },
 "nbformat": 4,
 "nbformat_minor": 2
}
